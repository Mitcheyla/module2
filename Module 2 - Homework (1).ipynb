{
 "cells": [
  {
   "cell_type": "markdown",
   "id": "c209b646",
   "metadata": {},
   "source": [
    "### Homework #2"
   ]
  },
  {
   "cell_type": "markdown",
   "id": "869ebfd6",
   "metadata": {},
   "source": [
    "1. Round 4.5667 to the nearest hundreth (2 decimals) using a build-in function, round()."
   ]
  },
  {
   "cell_type": "code",
   "execution_count": 1,
   "id": "123658aa",
   "metadata": {},
   "outputs": [
    {
     "data": {
      "text/plain": [
       "4.57"
      ]
     },
     "execution_count": 1,
     "metadata": {},
     "output_type": "execute_result"
    }
   ],
   "source": [
    "round(4.5667, 2)"
   ]
  },
  {
   "cell_type": "markdown",
   "id": "9d3f352c",
   "metadata": {},
   "source": [
    "2. Convert \"657\" to an integer data type"
   ]
  },
  {
   "cell_type": "code",
   "execution_count": 1,
   "id": "d5a67683",
   "metadata": {},
   "outputs": [
    {
     "name": "stdout",
     "output_type": "stream",
     "text": [
      "657\n"
     ]
    }
   ],
   "source": [
    "print(int(\"657\"))"
   ]
  },
  {
   "cell_type": "markdown",
   "id": "a36f06d4",
   "metadata": {},
   "source": [
    "3. Write a program to get two numbers from a user. Then, create a 6-digit code that is a series of randomly generated numbers between the two numbers given by the user. Print the 6-digit code so all digits are separated by a dash. "
   ]
  },
  {
   "cell_type": "code",
   "execution_count": 24,
   "id": "021c92d4",
   "metadata": {},
   "outputs": [
    {
     "name": "stdout",
     "output_type": "stream",
     "text": [
      "Give me a number: 1\n",
      "Give me another number: 9\n"
     ]
    }
   ],
   "source": [
    "num1 = int(input(\"Give me a number: \"))\n",
    "num2 = int(input(\"Give me another number: \"))"
   ]
  },
  {
   "cell_type": "code",
   "execution_count": 32,
   "id": "fccb38f0",
   "metadata": {},
   "outputs": [
    {
     "name": "stdout",
     "output_type": "stream",
     "text": [
      "Give me a number: 1\n",
      "Give me another number: 100\n",
      "The secret code is: 72--79--11--97--52--48\n"
     ]
    }
   ],
   "source": [
    "import random as rand\n",
    "\n",
    "num1 = int(input(\"Give me a number: \"))\n",
    "num2 = int(input(\"Give me another number: \"))\n",
    "\n",
    "s1=(rand.randint(num1, num2))\n",
    "s2=(rand.randint(num1, num2))\n",
    "s3=(rand.randint(num1, num2))\n",
    "s4=(rand.randint(num1, num2))\n",
    "s5=(rand.randint(num1, num2))\n",
    "s6=(rand.randint(num1, num2))\n",
    "\n",
    "print(f\"The secret code is: {s1}--{s2}--{s3}--{s4}--{s5}--{s6}\")\n"
   ]
  },
  {
   "cell_type": "code",
   "execution_count": null,
   "id": "c53ca54d",
   "metadata": {},
   "outputs": [],
   "source": [
    "print(f\" The secret code is:)"
   ]
  },
  {
   "cell_type": "markdown",
   "id": "ee1441a1",
   "metadata": {},
   "source": [
    "4. Write a program to remove ALL the white spaces from the following text:\n",
    "\n",
    "        Hickory, dickory, dock,     \n",
    "        The mouse ran up the clock.   \n",
    "        The clock struck one,   \n",
    "        The mouse ran down,                      \n",
    "        Hickory, dickory, dock                  "
   ]
  },
  {
   "cell_type": "code",
   "execution_count": 29,
   "id": "0c24c71d",
   "metadata": {},
   "outputs": [],
   "source": [
    "line1= (\"Hickory, dickory, dock,\")   \n",
    "line2= (\"The mouse ran up the clock.\")  \n",
    "line3= (\"The clock struck one,\")   \n",
    "line4= (\"The mouse ran down,\")                      \n",
    "line5= (\"Hickory, dickory, dock \")  "
   ]
  },
  {
   "cell_type": "code",
   "execution_count": 30,
   "id": "28f17625",
   "metadata": {},
   "outputs": [],
   "source": [
    "line1=line1.strip()\n",
    "line2=line2.strip()\n",
    "line3=line3.strip()\n",
    "line4=line4.strip()\n",
    "line5=line5.strip()"
   ]
  },
  {
   "cell_type": "code",
   "execution_count": null,
   "id": "432894a3",
   "metadata": {},
   "outputs": [],
   "source": [
    "line1=line1.replace(\" \", \"\")\n",
    "line2=line2.replace(\" \", \"\")\n",
    "line3=line3.replace(\" \", \"\")\n",
    "line4=line4.replace(\" \", \"\")\n",
    "line5=line5.replace(\" \", \"\")"
   ]
  },
  {
   "cell_type": "code",
   "execution_count": 33,
   "id": "3411b10b",
   "metadata": {},
   "outputs": [
    {
     "name": "stdout",
     "output_type": "stream",
     "text": [
      "Hickory, dickory, dock,\n",
      "The mouse ran up the clock.\n",
      "The clock struck one,\n",
      "The mouse ran down,\n",
      "Hickory, dickory, dock\n"
     ]
    }
   ],
   "source": [
    "print(line1)\n",
    "print(line2)\n",
    "print(line3)\n",
    "print(line4)\n",
    "print(line5)"
   ]
  },
  {
   "cell_type": "markdown",
   "id": "72d87b5b",
   "metadata": {},
   "source": [
    "5. Write a function to calculate the miles per gallon. Get a miles driven and gallons used from a user and call your function to calculate the miles per gallon."
   ]
  },
  {
   "cell_type": "code",
   "execution_count": 42,
   "id": "27be7372",
   "metadata": {},
   "outputs": [
    {
     "name": "stdout",
     "output_type": "stream",
     "text": [
      "Enter a number of miles driven:10\n",
      "Enter gallons of gas used:5\n"
     ]
    }
   ],
   "source": [
    "def miles_gallon\n",
    "\n",
    "miles_driven=int(input(\"Enter a number of miles driven:\"))\n",
    "gallons_used=int(input(\"Enter gallons of gas used:\"))\n",
    "\n",
    "    \n",
    "\n"
   ]
  },
  {
   "cell_type": "code",
   "execution_count": 45,
   "id": "dc084e76",
   "metadata": {},
   "outputs": [
    {
     "name": "stdout",
     "output_type": "stream",
     "text": [
      "2.0\n"
     ]
    }
   ],
   "source": [
    "#calculate the miles per gallons\n",
    "mpg=miles_driven/gallons_used\n",
    "print(mpg)"
   ]
  },
  {
   "cell_type": "markdown",
   "id": "1f3942b8",
   "metadata": {},
   "source": [
    "6. Enhance the <b>compute()</b> function created during Module 2. Enhance the function to compute a circle's area and circumference where:\n",
    "\n",
    " - circle's area = 3.14 X (radius X radius)   \n",
    " - circle's circumference = 3.14 X diameter"
   ]
  },
  {
   "cell_type": "code",
   "execution_count": 36,
   "id": "fa8de89a",
   "metadata": {},
   "outputs": [
    {
     "name": "stdout",
     "output_type": "stream",
     "text": [
      "Please enter a radius:  10\n",
      "please enter a diameter:  30\n"
     ]
    }
   ],
   "source": [
    "radius = int(input(\"Please enter a radius:  \"))\n",
    "diameter = int(input(\"please enter a diameter:  \"))"
   ]
  },
  {
   "cell_type": "code",
   "execution_count": 37,
   "id": "df43daca",
   "metadata": {},
   "outputs": [
    {
     "name": "stdout",
     "output_type": "stream",
     "text": [
      "Please enter a radius:  10\n",
      "please enter a diameter:  30\n",
      "Area is314.0\n",
      "Circumference is 62.800000000000004\n"
     ]
    }
   ],
   "source": [
    "# compute a circle'area and circumference\n",
    "A = 3.14 * (radius *radius)\n",
    "C =  2 * 3.14 * radius\n",
    "\n",
    "radius = int(input(\"Please enter a radius:  \"))\n",
    "diameter = int(input(\"please enter a diameter:  \"))\n",
    "\n",
    "print(f\"Area is{A}\")\n",
    "print(f\"Circumference is {C}\")"
   ]
  },
  {
   "cell_type": "markdown",
   "id": "4c5d83bb",
   "metadata": {},
   "source": [
    "7. Write a function called multiply_two() that accepts two parameters. The function should print a message like '15 * 2 = 30'.  Randomly generate two numbers between 1 and 100, then call the function with the two random numbers."
   ]
  },
  {
   "cell_type": "code",
   "execution_count": 38,
   "id": "fe5ca2dc",
   "metadata": {},
   "outputs": [
    {
     "name": "stdout",
     "output_type": "stream",
     "text": [
      "MULTIPLYING 14 * 91\n"
     ]
    },
    {
     "data": {
      "text/plain": [
       "1274"
      ]
     },
     "execution_count": 38,
     "metadata": {},
     "output_type": "execute_result"
    }
   ],
   "source": [
    "import random as rand\n",
    "def multiply_two(x,y):\n",
    "    print(f\"MULTIPLYING {x} * {y}\")\n",
    "    return x * y\n",
    "  \n",
    "n1=rand.randint(1, 100)\n",
    "n2=rand.randint(1, 100)\n",
    "\n",
    "multiply_two(n1, n2)\n",
    "    \n",
    "    \n",
    "    \n"
   ]
  },
  {
   "cell_type": "markdown",
   "id": "36865477",
   "metadata": {},
   "source": [
    "8. Create a function for a multiplication table.  Get a number from a user and then call you function which produces a multiplication table for that number.\n",
    "The output should look something like this:\n",
    "\n",
    "        Enter a number: 3\n",
    "        3 X 1 = 3\n",
    "        3 X 2 = 6\n",
    "        3 X 3 = 9\n",
    "        3 X 4 = 12\n",
    "        3 X 5 = 15\n",
    "        3 X 6 = 18\n",
    "        3 X 7 = 21\n",
    "        3 X 8 = 24\n",
    "        3 X 9 = 27"
   ]
  },
  {
   "cell_type": "code",
   "execution_count": null,
   "id": "ae4925f0",
   "metadata": {},
   "outputs": [],
   "source": []
  },
  {
   "cell_type": "code",
   "execution_count": 22,
   "id": "b023e863",
   "metadata": {},
   "outputs": [
    {
     "name": "stdout",
     "output_type": "stream",
     "text": [
      "Enter an integer: 3\n"
     ]
    }
   ],
   "source": [
    "n1= int(input(\"Enter an integer: \"))\n"
   ]
  },
  {
   "cell_type": "code",
   "execution_count": 27,
   "id": "563c8445",
   "metadata": {},
   "outputs": [
    {
     "name": "stdout",
     "output_type": "stream",
     "text": [
      "Enter an integer: 3\n",
      "3 * 1 = 3\n",
      "3 * 2 = 6\n",
      "3 * 3 = 9\n",
      "3 * 4 = 12\n",
      "3 * 5 = 15\n",
      "3 * 6 = 18\n",
      "3 * 7 = 21\n",
      "3 * 8 = 24\n",
      "3 * 9 = 27\n"
     ]
    }
   ],
   "source": [
    "number= int(input(\"Enter an integer: \"))\n",
    "\n",
    "for mul in range(1, 10):\n",
    "    print(\"{0} * {1} = {2}\".format(number,mul,(number * mul)))\n",
    "  \n",
    "    "
   ]
  },
  {
   "cell_type": "code",
   "execution_count": null,
   "id": "7ecf4e55",
   "metadata": {},
   "outputs": [],
   "source": []
  }
 ],
 "metadata": {
  "kernelspec": {
   "display_name": "Python 3",
   "language": "python",
   "name": "python3"
  },
  "language_info": {
   "codemirror_mode": {
    "name": "ipython",
    "version": 3
   },
   "file_extension": ".py",
   "mimetype": "text/x-python",
   "name": "python",
   "nbconvert_exporter": "python",
   "pygments_lexer": "ipython3",
   "version": "3.8.8"
  }
 },
 "nbformat": 4,
 "nbformat_minor": 5
}
